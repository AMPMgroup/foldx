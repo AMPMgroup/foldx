{
 "cells": [
  {
   "cell_type": "code",
   "execution_count": 143,
   "metadata": {},
   "outputs": [],
   "source": [
    "import sys\n",
    "import subprocess\n",
    "import os"
   ]
  },
  {
   "attachments": {},
   "cell_type": "markdown",
   "metadata": {},
   "source": [
    "- `input(\"Enter the WT residue: \")`: This prompts the user to enter the WT residue and waits for the user's input. The message \"Enter the WT residue: \" is displayed as a prompt to provide context to the user.\n",
    "- `.strip()`: removes any leading or trailing whitespace characters from the user's input. This is done to eliminate any unintended spaces that the user might have entered accidentally."
   ]
  },
  {
   "cell_type": "code",
   "execution_count": 132,
   "metadata": {},
   "outputs": [],
   "source": [
    "def get_mutation_input():\n",
    "    while True:\n",
    "        wt_residue = input(\"Enter the WT residue: \").strip().upper()\n",
    "        if wt_residue.lower() == \"quit\":\n",
    "            sys.exit()\n",
    "        if not wt_residue.isalpha():\n",
    "            print(f\"Invalid WT residue '{wt_residue}'. Please fill it again.\")\n",
    "            continue\n",
    "\n",
    "        while True:\n",
    "            chain = input(\"Enter the chain: \").strip().upper()\n",
    "            if chain.lower() == \"quit\":\n",
    "                sys.exit()\n",
    "            if not chain.isalpha():\n",
    "                print(f\"Invalid chain '{chain}'. Please fill it again.\")\n",
    "                continue\n",
    "            break\n",
    "        \n",
    "        while True:\n",
    "            residue_number = input(\"Enter the residue number: \").strip()\n",
    "            if residue_number.lower() == \"quit\":\n",
    "                sys.exit()\n",
    "            if not residue_number.isdigit():\n",
    "                print(f\"Residue number '{residue_number}' is not in the correct format. Please fill it again.\")\n",
    "                continue\n",
    "            break\n",
    "\n",
    "        while True: \n",
    "            mutant_residue = input(\"Enter the mutant residue: \").strip()\n",
    "            if mutant_residue.lower() == \"quit\":\n",
    "                sys.exit()\n",
    "            if not mutant_residue.isalpha():\n",
    "                print(f\"Invalid mutant residue '{mutant_residue}'. Please fill it again.\")\n",
    "                continue\n",
    "            break\n",
    "\n",
    "        if mutant_residue.islower() and mutant_residue in ['a', 'd', 'h', 'c', 'n']:\n",
    "            mutant_residue = mutant_residue.lower()\n",
    "        else:\n",
    "            mutant_residue = mutant_residue.upper()\n",
    "\n",
    "        mutation = (wt_residue, chain, residue_number, mutant_residue)\n",
    "        return mutation  # Return the mutation value\n"
   ]
  },
  {
   "attachments": {},
   "cell_type": "markdown",
   "metadata": {},
   "source": [
    "- `os.makedirs(config_path, exist_ok=True)`: creates directories. You ensure that the directory specified by `config_path` is created if it doesn't exist, and if it already exists, the function call has no effect. This allows you to safely create the directory without worrying about errors if it already exists.\n",
    "- `os.path.join()`: joinS one or more path components intelligently. It takes multiple path components as arguments and returns a single path string by concatenating them with the appropriate path separator for the operating system. In this case, os.path.join(config_path, \"config_PS.cfg\") joins the config_path (output directory) and the filename \"config_PS.cfg\" to create the complete path for the file.\n",
    "- `open()` function with the mode argument set to `\"w\"`: opens the file for writing and creates a new file if it doesn't exist. If the file already exists, it will be truncated (cleared) before writing the new content.\n",
    "- `with` statement: ensures that the file is properly closed after writing. It provides a block of code to execute within the context of the opened file.\n",
    "- `file.write()` method: write information to the file. The `write()` method expects a string as input, so we need to convert the list of mutations to a comma-separated string using the ','.join(mutations) expression.\n",
    "- `\\n` character: represents a new line, so each write statement starts a new line in the file.\n",
    "- `file.write(f\"pdb={pdb_name}.pdb\\n\")`: This line writes the PDB name to the file by interpolating the `{pdb_name}` variable. The `.pdb` extension is added to the PDB name to match the format required by FoldX.\n",
    "- `file.write(\"positions=\" + ','.join(positions)`: It concatenates `+` the string `\"positions=\"` with the positions list joined by commas. The `','.join(positions)` expression converts the list of positions into a single string with positions separated by commas.\n"
   ]
  },
  {
   "cell_type": "code",
   "execution_count": 133,
   "metadata": {},
   "outputs": [],
   "source": [
    "def save_config_file(positions, pdb_name, pdb_dir):\n",
    "    config_path = input(\"Enter the output directory: \")\n",
    "    if not config_path:\n",
    "        config_path = \".\"\n",
    "\n",
    "    # Create the directory if it doesn't exist\n",
    "    os.makedirs(config_path, exist_ok=True)\n",
    "\n",
    "    with open(os.path.join(config_path, \"config_PS.cfg\"), \"w\") as file:\n",
    "        file.write(\"command=PositionScan\\n\")\n",
    "        file.write(f\"pdb={pdb_name}.pdb\\n\")\n",
    "        file.write(f\"pdb-dir={pdb_dir}\\n\")\n",
    "        file.write(\"positions=\" + ','.join(positions))\n",
    "\n",
    "    return config_path"
   ]
  },
  {
   "attachments": {},
   "cell_type": "markdown",
   "metadata": {},
   "source": [
    "- `mutation[:1]`: extracts the first character of the mutation string, representing the WT residue.\n",
    "- `mutation[1]`: accesses the character at index 1 of the mutation string, representing the chain.\n",
    "- `mutation[2:-1]`: extracts a substring from index 2 to the second-to-last character of the mutation string, representing the residue number. The use of -1 as the end index ensures that the last character (mutant residue) is excluded.\n",
    "- `mutation[-1:]`: extracts the last character of the mutation string, representing the mutant residue.\n",
    "- The `f-string` (formatted string literal): concatenates these values together and create the mutation string in the format: WT residue + residue number + chain + -> + mutant residue"
   ]
  },
  {
   "cell_type": "code",
   "execution_count": 134,
   "metadata": {},
   "outputs": [],
   "source": [
    "def apply_mutations(mutations):\n",
    "    # Perform the mutations\n",
    "    for mutation in mutations:\n",
    "        residue, chain, residue_number, mutant_residue = mutation[:1], mutation[1], mutation[2:-1], mutation[-1:]\n",
    "        # Your mutation logic goes here\n",
    "        print(f\"Performing mutation: {residue}{residue_number}{chain} -> {mutant_residue}\")"
   ]
  },
  {
   "cell_type": "code",
   "execution_count": 135,
   "metadata": {},
   "outputs": [
    {
     "name": "stdout",
     "output_type": "stream",
     "text": [
      "To obtain the energy differences in the binding of an antibody-antigen (Ab-Ag) complex due to a specific mutation at a particular position (e.g., Ala to Ser),\n",
      "you can employ the following instructions:\n",
      "1. Enter the PDB name.\n",
      "2. Enter the PDB directory.\n",
      "3. Enter the mutation positions in the following format:\n",
      "   - WT residue: Enter the wild-type residue (single character).\n",
      "   - Chain: Enter the chain identifier (single character).\n",
      "   - Residue number: Enter the residue number.\n",
      "   - Mutant residue: Enter the mutant residue (single character).\n",
      "     The format for specifying mutants is for example LC43a (residue, chain, number, mutation),\n",
      "     where the mutant residue can have the following options:\n",
      "     + a: 20 amino acids\n",
      "     + d: 24 amino acids (includes phosphorylated Tyr, Ser and Thr and hydroxyl Proline)\n",
      "     + h: {'GLY', 'ALA', 'LEU', 'VAL', 'ILE', 'THR', 'SER', 'CYS', 'MET', 'LYS', 'TRP', 'TYR', 'PHE', 'HIS'}\n",
      "     + c: {'ARG', 'LYS', 'GLU', 'ASP', 'HIS'}\n",
      "     + p: {'ARG', 'LYS', 'GLU', 'ASP', 'HIS', 'TRP', 'TYR', 'THR', 'SER', 'GLN', 'ASN'}\n",
      "     + n: 4 bases (mutates any base to the other three and itself)\n",
      "     + Or any amino acid in one-letter code, e.g., LC43G\n",
      "   - Repeat step 3 to add more mutation positions.\n",
      "4. Enter the output directory where you want to save the results.\n",
      "5. If you type 'quit' at any time, the program will stop immediately.\n",
      "   The program will not proceed to the next step and will exit.\n",
      "   Make sure to save your progress before typing 'quit'.\n",
      "6. The program will generate a configuration file named 'config_PS.cfg' and execute the FoldX program.\n"
     ]
    }
   ],
   "source": [
    "# Provide instructions to the customer\n",
    "print(\"To obtain the energy differences in the binding of an antibody-antigen (Ab-Ag) complex due to a specific mutation at a particular position (e.g., Ala to Ser),\")\n",
    "print(\"you can employ the following instructions:\")\n",
    "print(\"1. Enter the PDB name.\")\n",
    "print(\"2. Enter the PDB directory.\")\n",
    "print(\"3. Enter the mutation positions in the following format:\")\n",
    "print(\"   - WT residue: Enter the wild-type residue (single character).\")\n",
    "print(\"   - Chain: Enter the chain identifier (single character).\")\n",
    "print(\"   - Residue number: Enter the residue number.\")\n",
    "print(\"   - Mutant residue: Enter the mutant residue (single character).\")\n",
    "print(\"     The format for specifying mutants is for example LC43a (residue, chain, number, mutation),\")\n",
    "print(\"     where the mutant residue can have the following options:\")\n",
    "print(\"     + a: 20 amino acids\")\n",
    "print(\"     + d: 24 amino acids (includes phosphorylated Tyr, Ser and Thr and hydroxyl Proline)\")\n",
    "print(\"     + h: {'GLY', 'ALA', 'LEU', 'VAL', 'ILE', 'THR', 'SER', 'CYS', 'MET', 'LYS', 'TRP', 'TYR', 'PHE', 'HIS'}\")\n",
    "print(\"     + c: {'ARG', 'LYS', 'GLU', 'ASP', 'HIS'}\")\n",
    "print(\"     + p: {'ARG', 'LYS', 'GLU', 'ASP', 'HIS', 'TRP', 'TYR', 'THR', 'SER', 'GLN', 'ASN'}\")\n",
    "print(\"     + n: 4 bases (mutates any base to the other three and itself)\")\n",
    "print(\"     + Or any amino acid in one-letter code, e.g., LC43G\")\n",
    "print(\"   - Repeat step 3 to add more mutation positions.\")\n",
    "print(\"4. Enter the output directory where you want to save the results.\")\n",
    "\n",
    "# Add a separate paragraph for the 'quit' option\n",
    "print(\"5. If you type 'quit' at any time, the program will stop immediately.\")\n",
    "print(\"   The program will not proceed to the next step and will exit.\")\n",
    "print(\"   Make sure to save your progress before typing 'quit'.\")\n",
    "\n",
    "print(\"6. The program will generate a configuration file named 'config_PS.cfg' and execute the FoldX program.\")\n"
   ]
  },
  {
   "cell_type": "code",
   "execution_count": 136,
   "metadata": {},
   "outputs": [],
   "source": [
    "# Get the pdb name from the customer\n",
    "pdb_name = input(\"Enter the PDB name: \").strip()\n",
    "if pdb_name.lower() == \"quit\":\n",
    "    sys.exit()"
   ]
  },
  {
   "cell_type": "code",
   "execution_count": 137,
   "metadata": {},
   "outputs": [],
   "source": [
    "# Get the pdb directory from the customer\n",
    "pdb_dir = input(\"Enter the PDB directory: \").strip()\n",
    "if pdb_dir.lower() == \"quit\":\n",
    "    sys.exit()"
   ]
  },
  {
   "cell_type": "code",
   "execution_count": 138,
   "metadata": {},
   "outputs": [],
   "source": [
    "# List to store the positions\n",
    "positions = []"
   ]
  },
  {
   "attachments": {},
   "cell_type": "markdown",
   "metadata": {},
   "source": [
    "- `while True`: loop creates an infinite loop, meaning it will continue running until it encounters a break statemen."
   ]
  },
  {
   "cell_type": "code",
   "execution_count": 140,
   "metadata": {},
   "outputs": [],
   "source": [
    "# Get position input from the customer\n",
    "while True:\n",
    "    mutation = get_mutation_input()\n",
    "\n",
    "    # Check if the customer wants to quit\n",
    "    if mutation == (\"quit\",):\n",
    "        sys.exit()\n",
    "\n",
    "    # Add the validated mutation to the list\n",
    "    positions.append(''.join(mutation))\n",
    "\n",
    "    # Ask if the customer wants to add more positions\n",
    "    add_more = input(\"Do you want to add more positions? (y/n): \")\n",
    "    if add_more.lower() != 'y':\n",
    "        break"
   ]
  },
  {
   "cell_type": "code",
   "execution_count": null,
   "metadata": {},
   "outputs": [],
   "source": [
    "# Save the positions and other information to the config file\n",
    "config_path = save_config_file(positions, pdb_name, pdb_dir)"
   ]
  },
  {
   "cell_type": "code",
   "execution_count": 141,
   "metadata": {},
   "outputs": [
    {
     "name": "stdout",
     "output_type": "stream",
     "text": [
      "Performing mutation: G5A -> a\n",
      "Performing mutation: G5A -> a\n",
      "Performing mutation: G14A -> P\n"
     ]
    }
   ],
   "source": [
    "# Apply the mutations\n",
    "apply_mutations(positions)"
   ]
  },
  {
   "cell_type": "code",
   "execution_count": 142,
   "metadata": {},
   "outputs": [
    {
     "name": "stdout",
     "output_type": "stream",
     "text": [
      "   ********************************************\n",
      "   ***                                      ***\n",
      "   ***             FoldX 5 (c)              ***\n",
      "   ***                                      ***\n",
      "   ***     code by the FoldX Consortium     ***\n",
      "   ***                                      ***\n",
      "   ***     Jesper Borg, Frederic Rousseau   ***\n",
      "   ***    Joost Schymkowitz, Luis Serrano   ***\n",
      "   ***    Peter Vanhee, Erik Verschueren    ***\n",
      "   ***     Lies Baeten, Javier Delgado      ***\n",
      "   ***       and Francois Stricher          ***\n",
      "   *** and any other of the 9! permutations ***\n",
      "   ***   based on an original concept by    ***\n",
      "   ***   Raphael Guerois and Luis Serrano   ***\n",
      "   ********************************************\n",
      "\n",
      "Config file /home/lucianhu/FoldX/example_files//config_PS.cfg not found!\n"
     ]
    },
    {
     "data": {
      "text/plain": [
       "CompletedProcess(args=['/home/lucianhu/FoldX/foldx_20231231', '-f', '/home/lucianhu/FoldX/example_files//config_PS.cfg'], returncode=255)"
      ]
     },
     "execution_count": 142,
     "metadata": {},
     "output_type": "execute_result"
    }
   ],
   "source": [
    "# Run FoldX command\n",
    "subprocess.run([\"/home/lucianhu/FoldX/foldx_20231231\", \"-f\", f\"{config_path}/config_PS.cfg\"], cwd=config_path)"
   ]
  }
 ],
 "metadata": {
  "kernelspec": {
   "display_name": "Python 3",
   "language": "python",
   "name": "python3"
  },
  "language_info": {
   "codemirror_mode": {
    "name": "ipython",
    "version": 3
   },
   "file_extension": ".py",
   "mimetype": "text/x-python",
   "name": "python",
   "nbconvert_exporter": "python",
   "pygments_lexer": "ipython3",
   "version": "3.11.3"
  },
  "orig_nbformat": 4
 },
 "nbformat": 4,
 "nbformat_minor": 2
}
